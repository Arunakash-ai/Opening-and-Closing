{
  "nbformat": 4,
  "nbformat_minor": 0,
  "metadata": {
    "colab": {
      "provenance": [],
      "authorship_tag": "ABX9TyNdFOTKfCPg019w0hCTNNjs",
      "include_colab_link": true
    },
    "kernelspec": {
      "name": "python3",
      "display_name": "Python 3"
    },
    "language_info": {
      "name": "python"
    }
  },
  "cells": [
    {
      "cell_type": "markdown",
      "metadata": {
        "id": "view-in-github",
        "colab_type": "text"
      },
      "source": [
        "<a href=\"https://colab.research.google.com/github/Arunakash-ai/Opening-and-Closing/blob/main/Untitled16.ipynb\" target=\"_parent\"><img src=\"https://colab.research.google.com/assets/colab-badge.svg\" alt=\"Open In Colab\"/></a>"
      ]
    },
    {
      "cell_type": "code",
      "execution_count": 3,
      "metadata": {
        "id": "hGNo0sDvWwxa"
      },
      "outputs": [],
      "source": [
        "import cv2\n",
        "import numpy as np\n",
        "import matplotlib.pyplot as plt\n",
        "from google.colab.patches import cv2_imshow"
      ]
    },
    {
      "cell_type": "code",
      "source": [
        "img1=np.zeros((300,500),dtype='uint8')\n",
        "font=cv2.FONT_ITALIC\n",
        "img2=cv2.putText(img1,\"Arun\",(5,70),font,3,(255,0,0),5,cv2.LINE_AA)\n",
        "cv2_imshow(img2)\n",
        "cv2.waitKey(0)\n",
        "cv2.destroyAllWindows()\n"
      ],
      "metadata": {
        "colab": {
          "base_uri": "https://localhost:8080/",
          "height": 317
        },
        "id": "ln4CY8VVWzs8",
        "outputId": "84926316-ec9d-4989-d9dc-55c47fcab5b6"
      },
      "execution_count": 6,
      "outputs": [
        {
          "output_type": "display_data",
          "data": {
            "text/plain": [
              "<PIL.Image.Image image mode=L size=500x300 at 0x7FB03453B280>"
            ],
            "image/png": "[encoded data removed]"
          },
          "metadata": {}
        }
      ]
    },
    {
      "cell_type": "code",
      "source": [
        "kernel1=cv2.getStructuringElement(cv2.MORPH_RECT,(21,21))\n",
        "kernel2=cv2.getStructuringElement(cv2.MORPH_RECT,(6,6))"
      ],
      "metadata": {
        "id": "cI9LztFNW6hp"
      },
      "execution_count": 7,
      "outputs": []
    },
    {
      "cell_type": "code",
      "source": [
        "img4=cv2.morphologyEx(img1,cv2.MORPH_OPEN,kernel2)\n",
        "cv2_imshow(img4)\n",
        "cv2.waitKey(0)\n",
        "cv2.destroyAllWindows()"
      ],
      "metadata": {
        "colab": {
          "base_uri": "https://localhost:8080/",
          "height": 317
        },
        "id": "UObNJSdCYZBW",
        "outputId": "58c22165-4609-46ed-8d34-6af0cad5b308"
      },
      "execution_count": 8,
      "outputs": [
        {
          "output_type": "display_data",
          "data": {
            "text/plain": [
              "<PIL.Image.Image image mode=L size=500x300 at 0x7FB03440C460>"
            ],
            "image/png": "[encoded data removed]"
          },
          "metadata": {}
        }
      ]
    },
    {
      "cell_type": "code",
      "source": [
        "img3=cv2.morphologyEx(img1,cv2.MORPH_CLOSE,kernel1)\n",
        "cv2_imshow(img3)\n",
        "cv2.waitKey(0)\n",
        "cv2.destroyAllWindows()"
      ],
      "metadata": {
        "colab": {
          "base_uri": "https://localhost:8080/",
          "height": 317
        },
        "id": "tCd1CXD9Yb6N",
        "outputId": "79a1d418-8943-41e1-9664-14ca5e2c6e3b"
      },
      "execution_count": 9,
      "outputs": [
        {
          "output_type": "display_data",
          "data": {
            "text/plain": [
              "<PIL.Image.Image image mode=L size=500x300 at 0x7FB0637F3940>"
            ],
            "image/png": "[encoded data removed]"
          },
          "metadata": {}
        }
      ]
    },
    {
      "cell_type": "code",
      "source": [],
      "metadata": {
        "id": "eiirSfOVYd-F"
      },
      "execution_count": null,
      "outputs": []
    }
  ]
}